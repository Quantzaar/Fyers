{
  "cells": [
    {
      "cell_type": "markdown",
      "metadata": {
        "id": "view-in-github",
        "colab_type": "text"
      },
      "source": [
        "<a href=\"https://colab.research.google.com/github/Quantzaar/Fyers/blob/main/list_top_30_stocks_based_on_last_1_year_return.ipynb\" target=\"_parent\"><img src=\"https://colab.research.google.com/assets/colab-badge.svg\" alt=\"Open In Colab\"/></a>"
      ]
    },
    {
      "cell_type": "markdown",
      "metadata": {
        "id": "jQxrf_zzDRzF"
      },
      "source": [
        "# Install fyers library"
      ]
    },
    {
      "cell_type": "code",
      "execution_count": null,
      "metadata": {
        "colab": {
          "base_uri": "https://localhost:8080/"
        },
        "id": "kHD6tRCu3QpD",
        "outputId": "0ebeb36e-5067-46ff-eefa-4ddd1ab6df05"
      },
      "outputs": [
        {
          "name": "stdout",
          "output_type": "stream",
          "text": [
            "Collecting fyers-apiv3\n",
            "  Downloading fyers_apiv3-3.1.7-py3-none-any.whl.metadata (19 kB)\n",
            "Collecting requests==2.31.0 (from fyers-apiv3)\n",
            "  Downloading requests-2.31.0-py3-none-any.whl.metadata (4.6 kB)\n",
            "Collecting asyncio==3.4.3 (from fyers-apiv3)\n",
            "  Downloading asyncio-3.4.3-py3-none-any.whl.metadata (1.7 kB)\n"
          ]
        }
      ],
      "source": [
        "pip install fyers-apiv3"
      ]
    },
    {
      "cell_type": "markdown",
      "metadata": {
        "id": "nq6CBcBA4hdj"
      },
      "source": [
        "# Generate authentication code\n",
        "\n",
        "NOTE:\n",
        "\n",
        "1.   client ID refers to Fyers APP ID, not fyers client ID\n",
        "2.   redirect url is required to get the auth code, which is embedded in the redirecting url, You can take it as local host as used below\n",
        "\n",
        "\n"
      ]
    },
    {
      "cell_type": "code",
      "execution_count": null,
      "metadata": {
        "id": "cOmm0i9O4bX_"
      },
      "outputs": [],
      "source": [
        "# Import the required module from the fyers_apiv3 package\n",
        "from fyers_apiv3 import fyersModel\n",
        "\n",
        "# Replace these values with your actual API credentials\n",
        "client_id = \"KUxxxxxx-100\"\n",
        "secret_key = \"xxxxxxxxxxx\"\n",
        "redirect_uri = \"https://127.0.0.1\"\n",
        "response_type = \"code\"\n",
        "state = \"sample_state\"\n",
        "\n",
        "# Create a session model with the provided credentials\n",
        "session = fyersModel.SessionModel(\n",
        "    client_id=client_id,\n",
        "    secret_key=secret_key,\n",
        "    redirect_uri=redirect_uri,\n",
        "    response_type=response_type\n",
        ")\n",
        "\n",
        "# Generate the auth code using the session model\n",
        "response = session.generate_authcode()\n",
        "\n",
        "# Print the auth code received in the response\n",
        "print(response)\n",
        "\n",
        "\n",
        "\n"
      ]
    },
    {
      "cell_type": "markdown",
      "metadata": {
        "id": "9l3Baux4EPwq"
      },
      "source": [
        "## Get Acess Token\n",
        "\n",
        "\n",
        "1.   Copy the auth code which is embedd inside the url generated from above code and paste it below\n",
        "2.   Copy the Access token, and use it.\n",
        "\n"
      ]
    },
    {
      "cell_type": "code",
      "execution_count": null,
      "metadata": {
        "id": "9njggjv74aFW"
      },
      "outputs": [],
      "source": [
        "# Import the required module from the fyers_apiv3 package\n",
        "from fyers_apiv3 import fyersModel\n",
        "\n",
        "# Define your Fyers API credentials\n",
        "client_id = \"KUxxxxxx-100\"  # Replace with your client ID\n",
        "secret_key = \"xxxxxxxxx\"  # Replace with your secret key\n",
        "redirect_uri = \"https://127.0.0.1\"  # Replace with your redirect URI\n",
        "response_type = \"code\"\n",
        "grant_type = \"authorization_code\"\n",
        "\n",
        "# The authorization code received from Fyers after the user grants access\n",
        "auth_code = \"eyJhbGciOiJIUzI1NiIsInR5cCI6IkpXVCJ9.eyJhcHBfaWQiOiJLVUw3RzlOQTFLIiwidXVpZCI6IjUzYjBmMjQyMTM1NDRkNTg4Yjc0NjJjYTliZThmYjE2IiwiaXBBZGRyIjoiIiwibm9uY2UiOiIiLCJzY29wZSI6IiIsImRpc3BsYXlfbmFtZSI6IkZBQTM0NzU5Iiwib21zIjoiSzEiLCJoc21fa2V5IjoiMGMxNTE5YjE5ZDk3MGJjYTRmMmZmMGYzOTE2NDg4OGNhZmVhZDE3ODdmMjVjMGE1OTljYzUyOGUiLCJpc0RkcGlFbmFibGVkIjoiTiIsImlzTXRmRW5hYmxlZCI6Ik4iLCJhdWQiOiJbXCJkOjFcIixcImQ6MlwiLFwieDowXCIsXCJ4OjFcIixcIng6MlwiXSIsImV4cCI6MTc1MTM4MTA2MCwiaWF0IjoxNzUxMzUxMDYwLCJpc3MiOiJhcGkubG9naW4uZnllcnMuaW4iLCJuYmYiOjE3NTEzNTEwNjAsInN1YiI6ImF1dGhfY29kZSJ9.chjTvAtKxRDnt_7x_8Vq3fmitLKAqd3YlLh7yEM7_Fc\"\n",
        "\n",
        "# Create a session object to handle the Fyers API authentication and token generation\n",
        "session = fyersModel.SessionModel(\n",
        "    client_id=client_id,\n",
        "    secret_key=secret_key,\n",
        "    redirect_uri=redirect_uri,\n",
        "    response_type=response_type,\n",
        "    grant_type=grant_type\n",
        ")\n",
        "\n",
        "# Set the authorization code in the session object\n",
        "session.set_token(auth_code)\n",
        "\n",
        "# Generate the access token using the authorization code\n",
        "response = session.generate_token()\n",
        "\n",
        "# Print the response, which should contain the access token and other details\n",
        "print(response)\n"
      ]
    },
    {
      "cell_type": "markdown",
      "metadata": {
        "id": "P35mtuS56FvN"
      },
      "source": [
        "# Sort top 30 stocks of nifty 500:\n",
        "\n",
        "\n",
        "1.   Manually scrap the symbol list of nifty 500 stocks\n",
        "2.   Run Loop on each symbol and fetch its price using fyers api\n",
        "3.   Store the 1 year return in a dataframe using panda and sort it top 30\n",
        "\n"
      ]
    },
    {
      "cell_type": "code",
      "execution_count": null,
      "metadata": {
        "id": "7DQK1LQAZ2Dq"
      },
      "outputs": [],
      "source": [
        "import pandas as pd\n",
        "\n",
        "nifty500_url = \"https://en.wikipedia.org/wiki/NIFTY_500\"\n",
        "pd.read_html(nifty500_url)[4][3][1:]"
      ]
    },
    {
      "cell_type": "code",
      "execution_count": null,
      "metadata": {
        "colab": {
          "base_uri": "https://localhost:8080/"
        },
        "id": "kstS-7BLZ_Ea",
        "outputId": "8743fefe-7d53-4598-a00b-a9ff74a4afc4"
      },
      "outputs": [
        {
          "name": "stdout",
          "output_type": "stream",
          "text": [
            "['NSE:360ONE-EQ', 'NSE:3MINDIA-EQ', 'NSE:ABB-EQ', 'NSE:ACC-EQ', 'NSE:AIAENG-EQ', 'NSE:APLAPOLLO-EQ', 'NSE:AUBANK-EQ', 'NSE:AARTIIND-EQ', 'NSE:AAVAS-EQ', 'NSE:ABBOTINDIA-EQ', 'NSE:ACE-EQ', 'NSE:ADANIENSOL-EQ', 'NSE:ADANIENT-EQ', 'NSE:ADANIGREEN-EQ', 'NSE:ADANIPORTS-EQ', 'NSE:ADANIPOWER-EQ', 'NSE:ATGL-EQ', 'NSE:AWL-EQ', 'NSE:ABCAPITAL-EQ', 'NSE:ABFRL-EQ', 'NSE:AEGISLOG-EQ', 'NSE:AETHER-EQ', 'NSE:AFFLE-EQ', 'NSE:AJANTPHARM-EQ', 'NSE:APLLTD-EQ', 'NSE:ALKEM-EQ', 'NSE:ALKYLAMINE-EQ', 'NSE:ALLCARGO-EQ', 'NSE:ALOKINDS-EQ', 'NSE:ARE&M-EQ', 'NSE:AMBER-EQ', 'NSE:AMBUJACEM-EQ', 'NSE:ANANDRATHI-EQ', 'NSE:ANGELONE-EQ', 'NSE:ANURAS-EQ', 'NSE:APARINDS-EQ', 'NSE:APOLLOHOSP-EQ', 'NSE:APOLLOTYRE-EQ', 'NSE:APTUS-EQ', 'NSE:ACI-EQ', 'NSE:ASAHIINDIA-EQ', 'NSE:ASHOKLEY-EQ', 'NSE:ASIANPAINT-EQ', 'NSE:ASTERDM-EQ', 'NSE:ASTRAZEN-EQ', 'NSE:ASTRAL-EQ', 'NSE:ATUL-EQ', 'NSE:AUROPHARMA-EQ', 'NSE:AVANTIFEED-EQ', 'NSE:DMART-EQ', 'NSE:AXISBANK-EQ', 'NSE:BEML-EQ', 'NSE:BLS-EQ', 'NSE:BSE-EQ', 'NSE:BAJAJ-AUTO-EQ', 'NSE:BAJFINANCE-EQ', 'NSE:BAJAJFINSV-EQ', 'NSE:BAJAJHLDNG-EQ', 'NSE:BALAMINES-EQ', 'NSE:BALKRISIND-EQ', 'NSE:BALRAMCHIN-EQ', 'NSE:BANDHANBNK-EQ', 'NSE:BANKBARODA-EQ', 'NSE:BANKINDIA-EQ', 'NSE:MAHABANK-EQ', 'NSE:BATAINDIA-EQ', 'NSE:BAYERCROP-EQ', 'NSE:BERGEPAINT-EQ', 'NSE:BDL-EQ', 'NSE:BEL-EQ', 'NSE:BHARATFORG-EQ', 'NSE:BHEL-EQ', 'NSE:BPCL-EQ', 'NSE:BHARTIARTL-EQ', 'NSE:BIKAJI-EQ', 'NSE:BIOCON-EQ', 'NSE:BIRLACORPN-EQ', 'NSE:BSOFT-EQ', 'NSE:BLUEDART-EQ', 'NSE:BLUESTARCO-EQ', 'NSE:BBTC-EQ', 'NSE:BORORENEW-EQ', 'NSE:BOSCHLTD-EQ', 'NSE:BRIGADE-EQ', 'NSE:BRITANNIA-EQ', 'NSE:MAPMYINDIA-EQ', 'NSE:CCL-EQ', 'NSE:CESC-EQ', 'NSE:CGPOWER-EQ', 'NSE:CIEINDIA-EQ', 'NSE:CRISIL-EQ', 'NSE:CSBBANK-EQ', 'NSE:CAMPUS-EQ', 'NSE:CANFINHOME-EQ', 'NSE:CANBK-EQ', 'NSE:CAPLIPOINT-EQ', 'NSE:CGCL-EQ', 'NSE:CARBORUNIV-EQ', 'NSE:CASTROLIND-EQ', 'NSE:CEATLTD-EQ', 'NSE:CELLO-EQ', 'NSE:CENTRALBK-EQ', 'NSE:CDSL-EQ', 'NSE:CENTURYPLY-EQ', 'NSE:ABREL-EQ', 'NSE:CERA-EQ', 'NSE:CHALET-EQ', 'NSE:CHAMBLFERT-EQ', 'NSE:CHEMPLASTS-EQ', 'NSE:CHENNPETRO-EQ', 'NSE:CHOLAHLDNG-EQ', 'NSE:CHOLAFIN-EQ', 'NSE:CIPLA-EQ', 'NSE:CUB-EQ', 'NSE:CLEAN-EQ', 'NSE:COALINDIA-EQ', 'NSE:COCHINSHIP-EQ', 'NSE:COFORGE-EQ', 'NSE:COLPAL-EQ', 'NSE:CAMS-EQ', 'NSE:CONCORDBIO-EQ', 'NSE:CONCOR-EQ', 'NSE:COROMANDEL-EQ', 'NSE:CRAFTSMAN-EQ', 'NSE:CREDITACC-EQ', 'NSE:CROMPTON-EQ', 'NSE:CUMMINSIND-EQ', 'NSE:CYIENT-EQ', 'NSE:DCMSHRIRAM-EQ', 'NSE:DLF-EQ', 'NSE:DOMS-EQ', 'NSE:DABUR-EQ', 'NSE:DALBHARAT-EQ', 'NSE:DATAPATTNS-EQ', 'NSE:DEEPAKFERT-EQ', 'NSE:DEEPAKNTR-EQ', 'NSE:DELHIVERY-EQ', 'NSE:DEVYANI-EQ', 'NSE:DIVISLAB-EQ', 'NSE:DIXON-EQ', 'NSE:LALPATHLAB-EQ', 'NSE:DRREDDY-EQ', 'NSE:EIDPARRY-EQ', 'NSE:EIHOTEL-EQ', 'NSE:EPL-EQ', 'NSE:EASEMYTRIP-EQ', 'NSE:EICHERMOT-EQ', 'NSE:ELECON-EQ', 'NSE:ELGIEQUIP-EQ', 'NSE:EMAMILTD-EQ', 'NSE:ENDURANCE-EQ', 'NSE:ENGINERSIN-EQ', 'NSE:EQUITASBNK-EQ', 'NSE:ERIS-EQ', 'NSE:ESCORTS-EQ', 'NSE:EXIDEIND-EQ', 'NSE:FDC-EQ', 'NSE:NYKAA-EQ', 'NSE:FEDERALBNK-EQ', 'NSE:FACT-EQ', 'NSE:FINEORG-EQ', 'NSE:FINCABLES-EQ', 'NSE:FINPIPE-EQ', 'NSE:FSL-EQ', 'NSE:FIVESTAR-EQ', 'NSE:FORTIS-EQ', 'NSE:GAIL-EQ', 'NSE:GMMPFAUDLR-EQ', 'NSE:GMRINFRASTRUCT-EQ', 'NSE:GRSE-EQ', 'NSE:GICRE-EQ', 'NSE:GILLETTE-EQ', 'NSE:GLAND-EQ', 'NSE:GLAXO-EQ', 'NSE:ALIVUS-EQ', 'NSE:GLENMARK-EQ', 'NSE:MEDANTA-EQ', 'NSE:GPIL-EQ', 'NSE:GODFRYPHLP-EQ', 'NSE:GODREJCP-EQ', 'NSE:GODREJIND-EQ', 'NSE:GODREJPROP-EQ', 'NSE:GRANULES-EQ', 'NSE:GRAPHITE-EQ', 'NSE:GRASIM-EQ', 'NSE:GESHIP-EQ', 'NSE:GRINDWELL-EQ', 'NSE:GAEL-EQ', 'NSE:FLUOROCHEM-EQ', 'NSE:GUJGASLTD-EQ', 'NSE:GMDCLTD-EQ', 'NSE:GNFC-EQ', 'NSE:GPPL-EQ', 'NSE:GSFC-EQ', 'NSE:GSPL-EQ', 'NSE:HEG-EQ', 'NSE:HBLENGINE-EQ', 'NSE:HCLTECH-EQ', 'NSE:HDFCAMC-EQ', 'NSE:HDFCBANK-EQ', 'NSE:HDFCLIFE-EQ', 'NSE:HFCL-EQ', 'NSE:HAPPSTMNDS-EQ', 'NSE:HAPPYFORGE-EQ', 'NSE:HAVELLS-EQ', 'NSE:HEROMOTOCO-EQ', 'NSE:HSCL-EQ', 'NSE:HINDALCO-EQ', 'NSE:HAL-EQ', 'NSE:HINDCOPPER-EQ', 'NSE:HINDPETRO-EQ', 'NSE:HINDUNILVR-EQ', 'NSE:HINDZINC-EQ', 'NSE:POWERINDIA-EQ', 'NSE:HOMEFIRST-EQ', 'NSE:HONASA-EQ', 'NSE:HONAUT-EQ', 'NSE:HUDCO-EQ', 'NSE:ICICIBANK-EQ', 'NSE:ICICIGI-EQ', 'NSE:ICICIPRULI-EQ', 'NSE:ISEC-EQ', 'NSE:IDBI-EQ', 'NSE:IDFCFIRSTB-EQ', 'NSE:IFCI-EQ', 'NSE:IIFL-EQ', 'NSE:IRB-EQ', 'NSE:IRCON-EQ', 'NSE:ITC-EQ', 'NSE:ITI-EQ', 'NSE:INDIACEM-EQ', 'NSE:INDIAMART-EQ', 'NSE:INDIANB-EQ', 'NSE:IEX-EQ', 'NSE:INDHOTEL-EQ', 'NSE:IOC-EQ', 'NSE:IOB-EQ', 'NSE:IRCTC-EQ', 'NSE:IRFC-EQ', 'NSE:INDIGOPNTS-EQ', 'NSE:IGL-EQ', 'NSE:INDUSTOWER-EQ', 'NSE:INDUSINDBK-EQ', 'NSE:NAUKRI-EQ', 'NSE:INFY-EQ', 'NSE:INOXWIND-EQ', 'NSE:INTELLECT-EQ', 'NSE:INDIGO-EQ', 'NSE:IPCALAB-EQ', 'NSE:JBCHEPHARM-EQ', 'NSE:JKCEMENT-EQ', 'NSE:JBMA-EQ', 'NSE:JKLAKSHMI-EQ', 'NSE:JKPAPER-EQ', 'NSE:JMFINANCIL-EQ', 'NSE:JSWENERGY-EQ', 'NSE:JSWINFRA-EQ', 'NSE:JSWSTEEL-EQ', 'NSE:JAIBALAJI-EQ', 'NSE:J&KBANK-EQ', 'NSE:JINDALSAW-EQ', 'NSE:JSL-EQ', 'NSE:JINDALSTEL-EQ', 'NSE:JIOFIN-EQ', 'NSE:JUBLFOOD-EQ', 'NSE:JUBLINGREA-EQ', 'NSE:JUBLPHARMA-EQ', 'NSE:JWL-EQ', 'NSE:JUSTDIAL-EQ', 'NSE:JYOTHYLAB-EQ', 'NSE:KPRMILL-EQ', 'NSE:KEI-EQ', 'NSE:KNRCON-EQ', 'NSE:KPITTECH-EQ', 'NSE:KRBL-EQ', 'NSE:KSB-EQ', 'NSE:KAJARIACER-EQ', 'NSE:KPIL-EQ', 'NSE:KALYANKJIL-EQ', 'NSE:KANSAINER-EQ', 'NSE:KARURVYSYA-EQ', 'NSE:KAYNES-EQ', 'NSE:KEC-EQ', 'NSE:KFINTECH-EQ', 'NSE:KOTAKBANK-EQ', 'NSE:KIMS-EQ', 'NSE:LTF-EQ', 'NSE:LTTS-EQ', 'NSE:LICHSGFIN-EQ', 'NSE:LTIM-EQ', 'NSE:LT-EQ', 'NSE:LATENTVIEW-EQ', 'NSE:LAURUSLABS-EQ', 'NSE:LXCHEM-EQ', 'NSE:LEMONTREE-EQ', 'NSE:LICI-EQ', 'NSE:LINDEINDIA-EQ', 'NSE:LLOYDSME-EQ', 'NSE:LUPIN-EQ', 'NSE:MMTC-EQ', 'NSE:MRF-EQ', 'NSE:MTARTECH-EQ', 'NSE:LODHA-EQ', 'NSE:MGL-EQ', 'NSE:MAHSEAMLES-EQ', 'NSE:M&MFIN-EQ', 'NSE:M&M-EQ', 'NSE:MHRIL-EQ', 'NSE:MAHLIFE-EQ', 'NSE:MANAPPURAM-EQ', 'NSE:MRPL-EQ', 'NSE:MANKIND-EQ', 'NSE:MARICO-EQ', 'NSE:MARUTI-EQ', 'NSE:MASTEK-EQ', 'NSE:MFSL-EQ', 'NSE:MAXHEALTH-EQ', 'NSE:MAZDOCK-EQ', 'NSE:MEDPLUS-EQ', 'NSE:METROBRAND-EQ', 'NSE:METROPOLIS-EQ', 'NSE:MINDACORP-EQ', 'NSE:MSUMI-EQ', 'NSE:MOTILALOFS-EQ', 'NSE:MPHASIS-EQ', 'NSE:MCX-EQ', 'NSE:MUTHOOTFIN-EQ', 'NSE:NATCOPHARM-EQ', 'NSE:NBCC-EQ', 'NSE:NCC-EQ', 'NSE:NHPC-EQ', 'NSE:NLCINDIA-EQ', 'NSE:NMDC-EQ', 'NSE:NSLNISP-EQ', 'NSE:NTPC-EQ', 'NSE:NH-EQ', 'NSE:NATIONALUM-EQ', 'NSE:NAVINFLUOR-EQ', 'NSE:NESTLEIND-EQ', 'NSE:NETWORK18-EQ', 'NSE:NAM-INDIA-EQ', 'NSE:NUVAMA-EQ', 'NSE:NUVOCO-EQ', 'NSE:OBEROIRLTY-EQ', 'NSE:ONGC-EQ', 'NSE:OIL-EQ', 'NSE:OLECTRA-EQ', 'NSE:PAYTM-EQ', 'NSE:OFSS-EQ', 'NSE:POLICYBZR-EQ', 'NSE:PCBL-EQ', 'NSE:PIIND-EQ', 'NSE:PNBHOUSING-EQ', 'NSE:PNCINFRA-EQ', 'NSE:PVRINOX-EQ', 'NSE:PAGEIND-EQ', 'NSE:PATANJALI-EQ', 'NSE:PERSISTENT-EQ', 'NSE:PETRONET-EQ', 'NSE:PHOENIXLTD-EQ', 'NSE:PIDILITIND-EQ', 'NSE:PEL-EQ', 'NSE:PPLPHARMA-EQ', 'NSE:POLYMED-EQ', 'NSE:POLYCAB-EQ', 'NSE:POONAWALLA-EQ', 'NSE:PFC-EQ', 'NSE:POWERGRID-EQ', 'NSE:PRAJIND-EQ', 'NSE:PRESTIGE-EQ', 'NSE:PRINCEPIPE-EQ', 'NSE:PRSMJOHNSN-EQ', 'NSE:PGHH-EQ', 'NSE:PNB-EQ', 'NSE:QUESS-EQ', 'NSE:RRKABEL-EQ', 'NSE:RBLBANK-EQ', 'NSE:RECLTD-EQ', 'NSE:RHIM-EQ', 'NSE:RITES-EQ', 'NSE:RADICO-EQ', 'NSE:RVNL-EQ', 'NSE:RAILTEL-EQ', 'NSE:RAINBOW-EQ', 'NSE:RAJESHEXPO-EQ', 'NSE:RKFORGE-EQ', 'NSE:RCF-EQ', 'NSE:RATNAMANI-EQ', 'NSE:RTNINDIA-EQ', 'NSE:RAYMOND-EQ', 'NSE:REDINGTON-EQ', 'NSE:RELIANCE-EQ', 'NSE:RBA-EQ', 'NSE:ROUTE-EQ', 'NSE:SBFC-EQ', 'NSE:SBICARD-EQ', 'NSE:SBILIFE-EQ', 'NSE:SJVN-EQ', 'NSE:SKFINDIA-EQ', 'NSE:SRF-EQ', 'NSE:SAFARI-EQ', 'NSE:SAMMAANCAP-EQ', 'NSE:MOTHERSON-EQ', 'NSE:SANOFI-EQ', 'NSE:SAPPHIRE-EQ', 'NSE:SAREGAMA-EQ', 'NSE:SCHAEFFLER-EQ', 'NSE:SCHNEIDER-EQ', 'NSE:SHREECEM-EQ', 'NSE:RENUKA-EQ', 'NSE:SHRIRAMFIN-EQ', 'NSE:SHYAMMETL-EQ', 'NSE:SIEMENS-EQ', 'NSE:SIGNATURE-EQ', 'NSE:SOBHA-EQ', 'NSE:SOLARINDS-EQ', 'NSE:SONACOMS-EQ', 'NSE:SONATSOFTW-EQ', 'NSE:STARHEALTH-EQ', 'NSE:SBIN-EQ', 'NSE:SAIL-EQ', 'NSE:SWSOLAR-EQ', 'NSE:STLTECH-EQ', 'NSE:SUMICHEM-EQ', 'NSE:SPARC-EQ', 'NSE:SUNPHARMA-EQ', 'NSE:SUNTV-EQ', 'NSE:SUNDARMFIN-EQ', 'NSE:SUNDRMFAST-EQ', 'NSE:SUNTECK-EQ', 'NSE:SUPREMEIND-EQ', 'NSE:SUVENPHAR-EQ', 'NSE:SUZLON-EQ', 'NSE:SWANENERGY-EQ', 'NSE:SYNGENE-EQ', 'NSE:SYRMA-EQ', 'NSE:TBOTEK-EQ', 'NSE:TVSMOTOR-EQ', 'NSE:TVSSCS-EQ', 'NSE:TMB-EQ', 'NSE:TANLA-EQ', 'NSE:TATACHEM-EQ', 'NSE:TATACOMM-EQ', 'NSE:TCS-EQ', 'NSE:TATACONSUM-EQ', 'NSE:TATAELXSI-EQ', 'NSE:TATAINVEST-EQ', 'NSE:TATAMOTORS-EQ', 'NSE:TATAPOWER-EQ', 'NSE:TATASTEEL-EQ', 'NSE:TATATECH-EQ', 'NSE:TTML-EQ', 'NSE:TECHM-EQ', 'NSE:TEJASNET-EQ', 'NSE:NIACL-EQ', 'NSE:RAMCOCEM-EQ', 'NSE:THERMAX-EQ', 'NSE:TIMKEN-EQ', 'NSE:TITAGARH-EQ', 'NSE:TITAN-EQ', 'NSE:TORNTPHARM-EQ', 'NSE:TORNTPOWER-EQ', 'NSE:TRENT-EQ', 'NSE:TRIDENT-EQ', 'NSE:TRIVENI-EQ', 'NSE:TRITURBINE-EQ', 'NSE:TIINDIA-EQ', 'NSE:UCOBANK-EQ', 'NSE:UNOMINDA-EQ', 'NSE:UPL-EQ', 'NSE:UTIAMC-EQ', 'NSE:UJJIVANSFB-EQ', 'NSE:ULTRACEMCO-EQ', 'NSE:UNIONBANK-EQ', 'NSE:UBL-EQ', 'NSE:UNITDSPR-EQ', 'NSE:USHAMART-EQ', 'NSE:VGUARD-EQ', 'NSE:VIPIND-EQ', 'NSE:VAIBHAVGBL-EQ', 'NSE:VTL-EQ', 'NSE:VARROC-EQ', 'NSE:VBL-EQ', 'NSE:MANYAVAR-EQ', 'NSE:VEDL-EQ', 'NSE:VIJAYA-EQ', 'NSE:IDEA-EQ', 'NSE:VOLTAS-EQ', 'NSE:WELCORP-EQ', 'NSE:WELSPUNLIV-EQ', 'NSE:WESTLIFE-EQ', 'NSE:WHIRLPOOL-EQ', 'NSE:WIPRO-EQ', 'NSE:YESBANK-EQ', 'NSE:ZFCVINDIA-EQ', 'NSE:ZEEL-EQ', 'NSE:ZENSARTECH-EQ', 'NSE:ETERNAL-EQ', 'NSE:ZYDUSLIFE-EQ', 'NSE:ECLERX-EQ']\n"
          ]
        }
      ],
      "source": [
        "import pandas as pd\n",
        "\n",
        "# Read the NIFTY 500 table from Wikipedia\n",
        "nifty500_url = \"https://en.wikipedia.org/wiki/NIFTY_500\"\n",
        "df = pd.read_html(nifty500_url)[4]\n",
        "\n",
        "# Extract the Symbol column (index 3)\n",
        "symbols_raw = df.iloc[1:, 3]  # Skip header row\n",
        "symbols_cleaned = symbols_raw.str.strip().tolist()  # Remove any surrounding whitespace\n",
        "\n",
        "# Optionally format for Fyers\n",
        "fyers_symbols = [f\"NSE:{sym}-EQ\" for sym in symbols_cleaned]\n",
        "\n",
        "print(fyers_symbols)\n"
      ]
    },
    {
      "cell_type": "code",
      "execution_count": null,
      "metadata": {
        "id": "oRLEQlWq6VFX"
      },
      "outputs": [],
      "source": [
        "from fyers_apiv3 import fyersModel\n",
        "import pandas as pd\n",
        "from datetime import datetime, timedelta\n",
        "import time\n",
        "\n",
        "# Replace with your own access token\n",
        "access_token = \"KUL7G9NA1K-100\"\n",
        "access_token = \"eyJhbGciOiJIUzI1NiIsInR5cCI6IkpXVCJ9.eyJhdWQiOlsiZDoxIiwiZDoyIiwieDowIiwieDoxIiwieDoyIl0sImF0X2hhc2giOiJnQUFBQUFCb1k0UjJfUlRJUm5VZzBtV1hZWjhKXzl2SGZ1bEJfQVFjNTZsM0pUbktDTDFYQy1CWDljNDlYcHlwbzVtZXVNYVpPOWlaODlFaF9aR1JBTVlmbmRvaDZ0YXhDOE83NFJVcVV3aWdVZno1NEdSaFMyZz0iLCJkaXNwbGF5X25hbWUiOiIiLCJvbXMiOiJLMSIsImhzbV9rZXkiOiIwYzE1MTliMTlkOTcwYmNhNGYyZmYwZjM5MTY0ODg4Y2FmZWFkMTc4N2YyNWMwYTU5OWNjNTI4ZSIsImlzRGRwaUVuYWJsZWQiOiJOIiwiaXNNdGZFbmFibGVkIjoiTiIsImZ5X2lkIjoiRkFBMzQ3NTkiLCJhcHBUeXBlIjoxMDAsImV4cCI6MTc1MTQxNjIwMCwiaWF0IjoxNzUxMzUyNDM4LCJpc3MiOiJhcGkuZnllcnMuaW4iLCJuYmYiOjE3NTEzNTI0MzgsInN1YiI6ImFjY2Vzc190b2tlbiJ9.83Pw4QrW2imw2fyu9qmDhsEHd3kfkuCJdooEirYNAeM\"\n",
        "\n",
        "\n",
        "# Initialize Fyers\n",
        "session = fyersModel.FyersModel(token=access_token, is_async=False, client_id=client_id)\n",
        "\n",
        "# Nifty 500 symbols — this should ideally be fetched dynamically or from a CSV\n",
        "nifty_500_symbols = ['NSE:360ONE-EQ', 'NSE:3MINDIA-EQ', 'NSE:ABB-EQ', 'NSE:ACC-EQ', 'NSE:AIAENG-EQ', 'NSE:APLAPOLLO-EQ', 'NSE:AUBANK-EQ', 'NSE:AARTIIND-EQ', 'NSE:AAVAS-EQ', 'NSE:ABBOTINDIA-EQ', 'NSE:ACE-EQ', 'NSE:ADANIENSOL-EQ', 'NSE:ADANIENT-EQ', 'NSE:ADANIGREEN-EQ', 'NSE:ADANIPORTS-EQ', 'NSE:ADANIPOWER-EQ', 'NSE:ATGL-EQ', 'NSE:AWL-EQ', 'NSE:ABCAPITAL-EQ', 'NSE:ABFRL-EQ', 'NSE:AEGISLOG-EQ', 'NSE:AETHER-EQ', 'NSE:AFFLE-EQ', 'NSE:AJANTPHARM-EQ', 'NSE:APLLTD-EQ', 'NSE:ALKEM-EQ', 'NSE:ALKYLAMINE-EQ', 'NSE:ALLCARGO-EQ', 'NSE:ALOKINDS-EQ', 'NSE:ARE&M-EQ', 'NSE:AMBER-EQ', 'NSE:AMBUJACEM-EQ', 'NSE:ANANDRATHI-EQ', 'NSE:ANGELONE-EQ', 'NSE:ANURAS-EQ', 'NSE:APARINDS-EQ', 'NSE:APOLLOHOSP-EQ', 'NSE:APOLLOTYRE-EQ', 'NSE:APTUS-EQ', 'NSE:ACI-EQ', 'NSE:ASAHIINDIA-EQ', 'NSE:ASHOKLEY-EQ', 'NSE:ASIANPAINT-EQ', 'NSE:ASTERDM-EQ', 'NSE:ASTRAZEN-EQ', 'NSE:ASTRAL-EQ', 'NSE:ATUL-EQ', 'NSE:AUROPHARMA-EQ', 'NSE:AVANTIFEED-EQ', 'NSE:DMART-EQ', 'NSE:AXISBANK-EQ', 'NSE:BEML-EQ', 'NSE:BLS-EQ', 'NSE:BSE-EQ', 'NSE:BAJAJ-AUTO-EQ', 'NSE:BAJFINANCE-EQ', 'NSE:BAJAJFINSV-EQ', 'NSE:BAJAJHLDNG-EQ', 'NSE:BALAMINES-EQ', 'NSE:BALKRISIND-EQ', 'NSE:BALRAMCHIN-EQ', 'NSE:BANDHANBNK-EQ', 'NSE:BANKBARODA-EQ', 'NSE:BANKINDIA-EQ', 'NSE:MAHABANK-EQ', 'NSE:BATAINDIA-EQ', 'NSE:BAYERCROP-EQ', 'NSE:BERGEPAINT-EQ', 'NSE:BDL-EQ', 'NSE:BEL-EQ', 'NSE:BHARATFORG-EQ', 'NSE:BHEL-EQ', 'NSE:BPCL-EQ', 'NSE:BHARTIARTL-EQ', 'NSE:BIKAJI-EQ', 'NSE:BIOCON-EQ', 'NSE:BIRLACORPN-EQ', 'NSE:BSOFT-EQ', 'NSE:BLUEDART-EQ', 'NSE:BLUESTARCO-EQ', 'NSE:BBTC-EQ', 'NSE:BORORENEW-EQ', 'NSE:BOSCHLTD-EQ', 'NSE:BRIGADE-EQ', 'NSE:BRITANNIA-EQ', 'NSE:MAPMYINDIA-EQ', 'NSE:CCL-EQ', 'NSE:CESC-EQ', 'NSE:CGPOWER-EQ', 'NSE:CIEINDIA-EQ', 'NSE:CRISIL-EQ', 'NSE:CSBBANK-EQ', 'NSE:CAMPUS-EQ', 'NSE:CANFINHOME-EQ', 'NSE:CANBK-EQ', 'NSE:CAPLIPOINT-EQ', 'NSE:CGCL-EQ', 'NSE:CARBORUNIV-EQ', 'NSE:CASTROLIND-EQ', 'NSE:CEATLTD-EQ', 'NSE:CELLO-EQ', 'NSE:CENTRALBK-EQ', 'NSE:CDSL-EQ', 'NSE:CENTURYPLY-EQ', 'NSE:ABREL-EQ', 'NSE:CERA-EQ', 'NSE:CHALET-EQ', 'NSE:CHAMBLFERT-EQ', 'NSE:CHEMPLASTS-EQ', 'NSE:CHENNPETRO-EQ', 'NSE:CHOLAHLDNG-EQ', 'NSE:CHOLAFIN-EQ', 'NSE:CIPLA-EQ', 'NSE:CUB-EQ', 'NSE:CLEAN-EQ', 'NSE:COALINDIA-EQ', 'NSE:COCHINSHIP-EQ', 'NSE:COFORGE-EQ', 'NSE:COLPAL-EQ', 'NSE:CAMS-EQ', 'NSE:CONCORDBIO-EQ', 'NSE:CONCOR-EQ', 'NSE:COROMANDEL-EQ', 'NSE:CRAFTSMAN-EQ', 'NSE:CREDITACC-EQ', 'NSE:CROMPTON-EQ', 'NSE:CUMMINSIND-EQ', 'NSE:CYIENT-EQ', 'NSE:DCMSHRIRAM-EQ', 'NSE:DLF-EQ', 'NSE:DOMS-EQ', 'NSE:DABUR-EQ', 'NSE:DALBHARAT-EQ', 'NSE:DATAPATTNS-EQ', 'NSE:DEEPAKFERT-EQ', 'NSE:DEEPAKNTR-EQ', 'NSE:DELHIVERY-EQ', 'NSE:DEVYANI-EQ', 'NSE:DIVISLAB-EQ', 'NSE:DIXON-EQ', 'NSE:LALPATHLAB-EQ', 'NSE:DRREDDY-EQ', 'NSE:EIDPARRY-EQ', 'NSE:EIHOTEL-EQ', 'NSE:EPL-EQ', 'NSE:EASEMYTRIP-EQ', 'NSE:EICHERMOT-EQ', 'NSE:ELECON-EQ', 'NSE:ELGIEQUIP-EQ', 'NSE:EMAMILTD-EQ', 'NSE:ENDURANCE-EQ', 'NSE:ENGINERSIN-EQ', 'NSE:EQUITASBNK-EQ', 'NSE:ERIS-EQ', 'NSE:ESCORTS-EQ', 'NSE:EXIDEIND-EQ', 'NSE:FDC-EQ', 'NSE:NYKAA-EQ', 'NSE:FEDERALBNK-EQ', 'NSE:FACT-EQ', 'NSE:FINEORG-EQ', 'NSE:FINCABLES-EQ', 'NSE:FINPIPE-EQ', 'NSE:FSL-EQ', 'NSE:FIVESTAR-EQ', 'NSE:FORTIS-EQ', 'NSE:GAIL-EQ', 'NSE:GMMPFAUDLR-EQ', 'NSE:GMRINFRASTRUCT-EQ', 'NSE:GRSE-EQ', 'NSE:GICRE-EQ', 'NSE:GILLETTE-EQ', 'NSE:GLAND-EQ', 'NSE:GLAXO-EQ', 'NSE:ALIVUS-EQ', 'NSE:GLENMARK-EQ', 'NSE:MEDANTA-EQ', 'NSE:GPIL-EQ', 'NSE:GODFRYPHLP-EQ', 'NSE:GODREJCP-EQ', 'NSE:GODREJIND-EQ', 'NSE:GODREJPROP-EQ', 'NSE:GRANULES-EQ', 'NSE:GRAPHITE-EQ', 'NSE:GRASIM-EQ', 'NSE:GESHIP-EQ', 'NSE:GRINDWELL-EQ', 'NSE:GAEL-EQ', 'NSE:FLUOROCHEM-EQ', 'NSE:GUJGASLTD-EQ', 'NSE:GMDCLTD-EQ', 'NSE:GNFC-EQ', 'NSE:GPPL-EQ', 'NSE:GSFC-EQ', 'NSE:GSPL-EQ', 'NSE:HEG-EQ', 'NSE:HBLENGINE-EQ', 'NSE:HCLTECH-EQ', 'NSE:HDFCAMC-EQ', 'NSE:HDFCBANK-EQ', 'NSE:HDFCLIFE-EQ', 'NSE:HFCL-EQ', 'NSE:HAPPSTMNDS-EQ', 'NSE:HAPPYFORGE-EQ', 'NSE:HAVELLS-EQ', 'NSE:HEROMOTOCO-EQ', 'NSE:HSCL-EQ', 'NSE:HINDALCO-EQ', 'NSE:HAL-EQ', 'NSE:HINDCOPPER-EQ', 'NSE:HINDPETRO-EQ', 'NSE:HINDUNILVR-EQ', 'NSE:HINDZINC-EQ', 'NSE:POWERINDIA-EQ', 'NSE:HOMEFIRST-EQ', 'NSE:HONASA-EQ', 'NSE:HONAUT-EQ', 'NSE:HUDCO-EQ', 'NSE:ICICIBANK-EQ', 'NSE:ICICIGI-EQ', 'NSE:ICICIPRULI-EQ', 'NSE:ISEC-EQ', 'NSE:IDBI-EQ', 'NSE:IDFCFIRSTB-EQ', 'NSE:IFCI-EQ', 'NSE:IIFL-EQ', 'NSE:IRB-EQ', 'NSE:IRCON-EQ', 'NSE:ITC-EQ', 'NSE:ITI-EQ', 'NSE:INDIACEM-EQ', 'NSE:INDIAMART-EQ', 'NSE:INDIANB-EQ', 'NSE:IEX-EQ', 'NSE:INDHOTEL-EQ', 'NSE:IOC-EQ', 'NSE:IOB-EQ', 'NSE:IRCTC-EQ', 'NSE:IRFC-EQ', 'NSE:INDIGOPNTS-EQ', 'NSE:IGL-EQ', 'NSE:INDUSTOWER-EQ', 'NSE:INDUSINDBK-EQ', 'NSE:NAUKRI-EQ', 'NSE:INFY-EQ', 'NSE:INOXWIND-EQ', 'NSE:INTELLECT-EQ', 'NSE:INDIGO-EQ', 'NSE:IPCALAB-EQ', 'NSE:JBCHEPHARM-EQ', 'NSE:JKCEMENT-EQ', 'NSE:JBMA-EQ', 'NSE:JKLAKSHMI-EQ', 'NSE:JKPAPER-EQ', 'NSE:JMFINANCIL-EQ', 'NSE:JSWENERGY-EQ', 'NSE:JSWINFRA-EQ', 'NSE:JSWSTEEL-EQ', 'NSE:JAIBALAJI-EQ', 'NSE:J&KBANK-EQ', 'NSE:JINDALSAW-EQ', 'NSE:JSL-EQ', 'NSE:JINDALSTEL-EQ', 'NSE:JIOFIN-EQ', 'NSE:JUBLFOOD-EQ', 'NSE:JUBLINGREA-EQ', 'NSE:JUBLPHARMA-EQ', 'NSE:JWL-EQ', 'NSE:JUSTDIAL-EQ', 'NSE:JYOTHYLAB-EQ', 'NSE:KPRMILL-EQ', 'NSE:KEI-EQ', 'NSE:KNRCON-EQ', 'NSE:KPITTECH-EQ', 'NSE:KRBL-EQ', 'NSE:KSB-EQ', 'NSE:KAJARIACER-EQ', 'NSE:KPIL-EQ', 'NSE:KALYANKJIL-EQ', 'NSE:KANSAINER-EQ', 'NSE:KARURVYSYA-EQ', 'NSE:KAYNES-EQ', 'NSE:KEC-EQ', 'NSE:KFINTECH-EQ', 'NSE:KOTAKBANK-EQ', 'NSE:KIMS-EQ', 'NSE:LTF-EQ', 'NSE:LTTS-EQ', 'NSE:LICHSGFIN-EQ', 'NSE:LTIM-EQ', 'NSE:LT-EQ', 'NSE:LATENTVIEW-EQ', 'NSE:LAURUSLABS-EQ', 'NSE:LXCHEM-EQ', 'NSE:LEMONTREE-EQ', 'NSE:LICI-EQ', 'NSE:LINDEINDIA-EQ', 'NSE:LLOYDSME-EQ', 'NSE:LUPIN-EQ', 'NSE:MMTC-EQ', 'NSE:MRF-EQ', 'NSE:MTARTECH-EQ', 'NSE:LODHA-EQ', 'NSE:MGL-EQ', 'NSE:MAHSEAMLES-EQ', 'NSE:M&MFIN-EQ', 'NSE:M&M-EQ', 'NSE:MHRIL-EQ', 'NSE:MAHLIFE-EQ', 'NSE:MANAPPURAM-EQ', 'NSE:MRPL-EQ', 'NSE:MANKIND-EQ', 'NSE:MARICO-EQ', 'NSE:MARUTI-EQ', 'NSE:MASTEK-EQ', 'NSE:MFSL-EQ', 'NSE:MAXHEALTH-EQ', 'NSE:MAZDOCK-EQ', 'NSE:MEDPLUS-EQ', 'NSE:METROBRAND-EQ', 'NSE:METROPOLIS-EQ', 'NSE:MINDACORP-EQ', 'NSE:MSUMI-EQ', 'NSE:MOTILALOFS-EQ', 'NSE:MPHASIS-EQ', 'NSE:MCX-EQ', 'NSE:MUTHOOTFIN-EQ', 'NSE:NATCOPHARM-EQ', 'NSE:NBCC-EQ', 'NSE:NCC-EQ', 'NSE:NHPC-EQ', 'NSE:NLCINDIA-EQ', 'NSE:NMDC-EQ', 'NSE:NSLNISP-EQ', 'NSE:NTPC-EQ', 'NSE:NH-EQ', 'NSE:NATIONALUM-EQ', 'NSE:NAVINFLUOR-EQ', 'NSE:NESTLEIND-EQ', 'NSE:NETWORK18-EQ', 'NSE:NAM-INDIA-EQ', 'NSE:NUVAMA-EQ', 'NSE:NUVOCO-EQ', 'NSE:OBEROIRLTY-EQ', 'NSE:ONGC-EQ', 'NSE:OIL-EQ', 'NSE:OLECTRA-EQ', 'NSE:PAYTM-EQ', 'NSE:OFSS-EQ', 'NSE:POLICYBZR-EQ', 'NSE:PCBL-EQ', 'NSE:PIIND-EQ', 'NSE:PNBHOUSING-EQ', 'NSE:PNCINFRA-EQ', 'NSE:PVRINOX-EQ', 'NSE:PAGEIND-EQ', 'NSE:PATANJALI-EQ', 'NSE:PERSISTENT-EQ', 'NSE:PETRONET-EQ', 'NSE:PHOENIXLTD-EQ', 'NSE:PIDILITIND-EQ', 'NSE:PEL-EQ', 'NSE:PPLPHARMA-EQ', 'NSE:POLYMED-EQ', 'NSE:POLYCAB-EQ', 'NSE:POONAWALLA-EQ', 'NSE:PFC-EQ', 'NSE:POWERGRID-EQ', 'NSE:PRAJIND-EQ', 'NSE:PRESTIGE-EQ', 'NSE:PRINCEPIPE-EQ', 'NSE:PRSMJOHNSN-EQ', 'NSE:PGHH-EQ', 'NSE:PNB-EQ', 'NSE:QUESS-EQ', 'NSE:RRKABEL-EQ', 'NSE:RBLBANK-EQ', 'NSE:RECLTD-EQ', 'NSE:RHIM-EQ', 'NSE:RITES-EQ', 'NSE:RADICO-EQ', 'NSE:RVNL-EQ', 'NSE:RAILTEL-EQ', 'NSE:RAINBOW-EQ', 'NSE:RAJESHEXPO-EQ', 'NSE:RKFORGE-EQ', 'NSE:RCF-EQ', 'NSE:RATNAMANI-EQ', 'NSE:RTNINDIA-EQ', 'NSE:RAYMOND-EQ', 'NSE:REDINGTON-EQ', 'NSE:RELIANCE-EQ', 'NSE:RBA-EQ', 'NSE:ROUTE-EQ', 'NSE:SBFC-EQ', 'NSE:SBICARD-EQ', 'NSE:SBILIFE-EQ', 'NSE:SJVN-EQ', 'NSE:SKFINDIA-EQ', 'NSE:SRF-EQ', 'NSE:SAFARI-EQ', 'NSE:SAMMAANCAP-EQ', 'NSE:MOTHERSON-EQ', 'NSE:SANOFI-EQ', 'NSE:SAPPHIRE-EQ', 'NSE:SAREGAMA-EQ', 'NSE:SCHAEFFLER-EQ', 'NSE:SCHNEIDER-EQ', 'NSE:SHREECEM-EQ', 'NSE:RENUKA-EQ', 'NSE:SHRIRAMFIN-EQ', 'NSE:SHYAMMETL-EQ', 'NSE:SIEMENS-EQ', 'NSE:SIGNATURE-EQ', 'NSE:SOBHA-EQ', 'NSE:SOLARINDS-EQ', 'NSE:SONACOMS-EQ', 'NSE:SONATSOFTW-EQ', 'NSE:STARHEALTH-EQ', 'NSE:SBIN-EQ', 'NSE:SAIL-EQ', 'NSE:SWSOLAR-EQ', 'NSE:STLTECH-EQ', 'NSE:SUMICHEM-EQ', 'NSE:SPARC-EQ', 'NSE:SUNPHARMA-EQ', 'NSE:SUNTV-EQ', 'NSE:SUNDARMFIN-EQ', 'NSE:SUNDRMFAST-EQ', 'NSE:SUNTECK-EQ', 'NSE:SUPREMEIND-EQ', 'NSE:SUVENPHAR-EQ', 'NSE:SUZLON-EQ', 'NSE:SWANENERGY-EQ', 'NSE:SYNGENE-EQ', 'NSE:SYRMA-EQ', 'NSE:TBOTEK-EQ', 'NSE:TVSMOTOR-EQ', 'NSE:TVSSCS-EQ', 'NSE:TMB-EQ', 'NSE:TANLA-EQ', 'NSE:TATACHEM-EQ', 'NSE:TATACOMM-EQ', 'NSE:TCS-EQ', 'NSE:TATACONSUM-EQ', 'NSE:TATAELXSI-EQ', 'NSE:TATAINVEST-EQ', 'NSE:TATAMOTORS-EQ', 'NSE:TATAPOWER-EQ', 'NSE:TATASTEEL-EQ', 'NSE:TATATECH-EQ', 'NSE:TTML-EQ', 'NSE:TECHM-EQ', 'NSE:TEJASNET-EQ', 'NSE:NIACL-EQ', 'NSE:RAMCOCEM-EQ', 'NSE:THERMAX-EQ', 'NSE:TIMKEN-EQ', 'NSE:TITAGARH-EQ', 'NSE:TITAN-EQ', 'NSE:TORNTPHARM-EQ', 'NSE:TORNTPOWER-EQ', 'NSE:TRENT-EQ', 'NSE:TRIDENT-EQ', 'NSE:TRIVENI-EQ', 'NSE:TRITURBINE-EQ', 'NSE:TIINDIA-EQ', 'NSE:UCOBANK-EQ', 'NSE:UNOMINDA-EQ', 'NSE:UPL-EQ', 'NSE:UTIAMC-EQ', 'NSE:UJJIVANSFB-EQ', 'NSE:ULTRACEMCO-EQ', 'NSE:UNIONBANK-EQ', 'NSE:UBL-EQ', 'NSE:UNITDSPR-EQ', 'NSE:USHAMART-EQ', 'NSE:VGUARD-EQ', 'NSE:VIPIND-EQ', 'NSE:VAIBHAVGBL-EQ', 'NSE:VTL-EQ', 'NSE:VARROC-EQ', 'NSE:VBL-EQ', 'NSE:MANYAVAR-EQ', 'NSE:VEDL-EQ', 'NSE:VIJAYA-EQ', 'NSE:IDEA-EQ', 'NSE:VOLTAS-EQ', 'NSE:WELCORP-EQ', 'NSE:WELSPUNLIV-EQ', 'NSE:WESTLIFE-EQ', 'NSE:WHIRLPOOL-EQ', 'NSE:WIPRO-EQ', 'NSE:YESBANK-EQ', 'NSE:ZFCVINDIA-EQ', 'NSE:ZEEL-EQ', 'NSE:ZENSARTECH-EQ', 'NSE:ETERNAL-EQ', 'NSE:ZYDUSLIFE-EQ', 'NSE:ECLERX-EQ']\n",
        "\n",
        "\n",
        "def get_1_year_return(symbol):\n",
        "    to_date = datetime.today()\n",
        "    from_date = to_date - timedelta(days=365)\n",
        "\n",
        "    # Format date\n",
        "    to_date_str = to_date.strftime('%Y-%m-%d')\n",
        "    from_date_str = from_date.strftime('%Y-%m-%d')\n",
        "\n",
        "    try:\n",
        "        response = session.history(\n",
        "            {\n",
        "                \"symbol\": symbol,\n",
        "                \"resolution\": \"1D\",\n",
        "                \"date_format\": \"1\",\n",
        "                \"range_from\": from_date_str,\n",
        "                \"range_to\": to_date_str,\n",
        "                \"cont_flag\": \"1\"\n",
        "            }\n",
        "        )\n",
        "\n",
        "        candles = response.get('candles', [])\n",
        "        if len(candles) < 2:\n",
        "            return None\n",
        "\n",
        "        start_price = candles[0][4]  # Close price a year ago\n",
        "        end_price = candles[-1][4]   # Latest close price\n",
        "\n",
        "        return ((end_price - start_price) / start_price) * 100  # 1-year return %\n",
        "\n",
        "    except Exception as e:\n",
        "        print(f\"Error for {symbol}: {e}\")\n",
        "        return None\n",
        "\n",
        "# Fetch returns for all symbols\n",
        "returns = []\n",
        "for symbol in nifty_500_symbols:\n",
        "    print(f\"Processing: {symbol}\")\n",
        "    r = get_1_year_return(symbol)\n",
        "    if r is not None:\n",
        "        returns.append((symbol, r))\n",
        "    time.sleep(0.5)  # To respect rate limits\n",
        "\n",
        "# Convert to DataFrame\n",
        "df = pd.DataFrame(returns, columns=[\"Symbol\", \"1Y_Return(%)\"])\n",
        "df_sorted = df.sort_values(by=\"1Y_Return(%)\", ascending=False).head(30)\n",
        "\n",
        "# Show top 30\n",
        "print(df_sorted)\n"
      ]
    }
  ],
  "metadata": {
    "colab": {
      "provenance": [],
      "include_colab_link": true
    },
    "kernelspec": {
      "display_name": "Python 3",
      "name": "python3"
    },
    "language_info": {
      "name": "python"
    }
  },
  "nbformat": 4,
  "nbformat_minor": 0
}