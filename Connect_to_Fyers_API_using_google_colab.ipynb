{
  "cells": [
    {
      "cell_type": "markdown",
      "metadata": {
        "id": "view-in-github",
        "colab_type": "text"
      },
      "source": [
        "<a href=\"https://colab.research.google.com/github/Quantzaar/Fyers/blob/main/Connect_to_Fyers_API_using_google_colab.ipynb\" target=\"_parent\"><img src=\"https://colab.research.google.com/assets/colab-badge.svg\" alt=\"Open In Colab\"/></a>"
      ]
    },
    {
      "cell_type": "markdown",
      "metadata": {
        "id": "jQxrf_zzDRzF"
      },
      "source": [
        "# Install fyers library"
      ]
    },
    {
      "cell_type": "code",
      "execution_count": 1,
      "metadata": {
        "colab": {
          "base_uri": "https://localhost:8080/"
        },
        "id": "kHD6tRCu3QpD",
        "outputId": "6c6f7376-8218-4b62-b075-6b38ace72351",
        "collapsed": true
      },
      "outputs": [
        {
          "output_type": "stream",
          "name": "stdout",
          "text": [
            "Requirement already satisfied: fyers-apiv3 in /usr/local/lib/python3.11/dist-packages (3.1.7)\n",
            "Requirement already satisfied: requests==2.31.0 in /usr/local/lib/python3.11/dist-packages (from fyers-apiv3) (2.31.0)\n",
            "Requirement already satisfied: asyncio==3.4.3 in /usr/local/lib/python3.11/dist-packages (from fyers-apiv3) (3.4.3)\n",
            "Requirement already satisfied: aiohttp==3.9.3 in /usr/local/lib/python3.11/dist-packages (from fyers-apiv3) (3.9.3)\n",
            "Requirement already satisfied: aws_lambda_powertools==1.25.5 in /usr/local/lib/python3.11/dist-packages (from fyers-apiv3) (1.25.5)\n",
            "Requirement already satisfied: websocket-client==1.6.1 in /usr/local/lib/python3.11/dist-packages (from fyers-apiv3) (1.6.1)\n",
            "Requirement already satisfied: protobuf==5.29.3 in /usr/local/lib/python3.11/dist-packages (from fyers-apiv3) (5.29.3)\n",
            "Requirement already satisfied: aiosignal>=1.1.2 in /usr/local/lib/python3.11/dist-packages (from aiohttp==3.9.3->fyers-apiv3) (1.3.2)\n",
            "Requirement already satisfied: attrs>=17.3.0 in /usr/local/lib/python3.11/dist-packages (from aiohttp==3.9.3->fyers-apiv3) (25.3.0)\n",
            "Requirement already satisfied: frozenlist>=1.1.1 in /usr/local/lib/python3.11/dist-packages (from aiohttp==3.9.3->fyers-apiv3) (1.7.0)\n",
            "Requirement already satisfied: multidict<7.0,>=4.5 in /usr/local/lib/python3.11/dist-packages (from aiohttp==3.9.3->fyers-apiv3) (6.6.3)\n",
            "Requirement already satisfied: yarl<2.0,>=1.0 in /usr/local/lib/python3.11/dist-packages (from aiohttp==3.9.3->fyers-apiv3) (1.20.1)\n",
            "Requirement already satisfied: aws-xray-sdk<3.0.0,>=2.8.0 in /usr/local/lib/python3.11/dist-packages (from aws_lambda_powertools==1.25.5->fyers-apiv3) (2.14.0)\n",
            "Requirement already satisfied: boto3<2.0,>=1.18 in /usr/local/lib/python3.11/dist-packages (from aws_lambda_powertools==1.25.5->fyers-apiv3) (1.39.2)\n",
            "Requirement already satisfied: fastjsonschema<3.0.0,>=2.14.5 in /usr/local/lib/python3.11/dist-packages (from aws_lambda_powertools==1.25.5->fyers-apiv3) (2.21.1)\n",
            "Requirement already satisfied: jmespath<0.11.0,>=0.10.0 in /usr/local/lib/python3.11/dist-packages (from aws_lambda_powertools==1.25.5->fyers-apiv3) (0.10.0)\n",
            "Requirement already satisfied: charset-normalizer<4,>=2 in /usr/local/lib/python3.11/dist-packages (from requests==2.31.0->fyers-apiv3) (3.4.2)\n",
            "Requirement already satisfied: idna<4,>=2.5 in /usr/local/lib/python3.11/dist-packages (from requests==2.31.0->fyers-apiv3) (3.10)\n",
            "Requirement already satisfied: urllib3<3,>=1.21.1 in /usr/local/lib/python3.11/dist-packages (from requests==2.31.0->fyers-apiv3) (2.4.0)\n",
            "Requirement already satisfied: certifi>=2017.4.17 in /usr/local/lib/python3.11/dist-packages (from requests==2.31.0->fyers-apiv3) (2025.6.15)\n",
            "Requirement already satisfied: wrapt in /usr/local/lib/python3.11/dist-packages (from aws-xray-sdk<3.0.0,>=2.8.0->aws_lambda_powertools==1.25.5->fyers-apiv3) (1.17.2)\n",
            "Requirement already satisfied: botocore>=1.11.3 in /usr/local/lib/python3.11/dist-packages (from aws-xray-sdk<3.0.0,>=2.8.0->aws_lambda_powertools==1.25.5->fyers-apiv3) (1.39.2)\n",
            "Requirement already satisfied: s3transfer<0.14.0,>=0.13.0 in /usr/local/lib/python3.11/dist-packages (from boto3<2.0,>=1.18->aws_lambda_powertools==1.25.5->fyers-apiv3) (0.13.0)\n",
            "Requirement already satisfied: propcache>=0.2.1 in /usr/local/lib/python3.11/dist-packages (from yarl<2.0,>=1.0->aiohttp==3.9.3->fyers-apiv3) (0.3.2)\n",
            "Requirement already satisfied: python-dateutil<3.0.0,>=2.1 in /usr/local/lib/python3.11/dist-packages (from botocore>=1.11.3->aws-xray-sdk<3.0.0,>=2.8.0->aws_lambda_powertools==1.25.5->fyers-apiv3) (2.9.0.post0)\n",
            "Requirement already satisfied: six>=1.5 in /usr/local/lib/python3.11/dist-packages (from python-dateutil<3.0.0,>=2.1->botocore>=1.11.3->aws-xray-sdk<3.0.0,>=2.8.0->aws_lambda_powertools==1.25.5->fyers-apiv3) (1.17.0)\n"
          ]
        }
      ],
      "source": [
        "pip install fyers-apiv3"
      ]
    },
    {
      "cell_type": "markdown",
      "metadata": {
        "id": "nq6CBcBA4hdj"
      },
      "source": [
        "# Generate authentication code\n",
        "\n",
        "required obtaining getting access token\n",
        "\n",
        "NOTE:\n",
        "\n",
        "1.   client ID refers to Fyers APP ID, not fyers client ID\n",
        "2.   redirect url is required to get the auth code, which is embedded in the redirecting url, You can take it as local host as used below\n",
        "\n",
        "\n"
      ]
    },
    {
      "cell_type": "code",
      "execution_count": null,
      "metadata": {
        "id": "cOmm0i9O4bX_"
      },
      "outputs": [],
      "source": [
        "# Import the required module from the fyers_apiv3 package\n",
        "from fyers_apiv3 import fyersModel\n",
        "\n",
        "# Replace these values with your actual API credentials\n",
        "client_id = \"KUxxxxxx-100\"\n",
        "secret_key = \"xxxxxxxxxxx\"\n",
        "redirect_uri = \"https://127.0.0.1\"\n",
        "response_type = \"code\"\n",
        "state = \"sample_state\"\n",
        "\n",
        "# Create a session model with the provided credentials\n",
        "session = fyersModel.SessionModel(\n",
        "    client_id=client_id,\n",
        "    secret_key=secret_key,\n",
        "    redirect_uri=redirect_uri,\n",
        "    response_type=response_type\n",
        ")\n",
        "\n",
        "# Generate the auth code using the session model\n",
        "response = session.generate_authcode()\n",
        "\n",
        "# Print the auth code received in the response\n",
        "print(response)\n",
        "\n",
        "\n",
        "\n"
      ]
    },
    {
      "cell_type": "markdown",
      "metadata": {
        "id": "9l3Baux4EPwq"
      },
      "source": [
        "## Get Acess Token\n",
        "\n",
        "\n",
        "1.   Copy the auth code which is embedd inside the url generated from above code and paste it below\n",
        "2.   Copy the Access token, and use it.\n",
        "\n"
      ]
    },
    {
      "cell_type": "code",
      "execution_count": null,
      "metadata": {
        "id": "9njggjv74aFW"
      },
      "outputs": [],
      "source": [
        "# Import the required module from the fyers_apiv3 package\n",
        "from fyers_apiv3 import fyersModel\n",
        "\n",
        "# Define your Fyers API credentials\n",
        "client_id = \"KUxxxxxx-100\"  # Replace with your client ID\n",
        "secret_key = \"xxxxxxxxx\"  # Replace with your secret key\n",
        "redirect_uri = \"https://127.0.0.1\"  # Replace with your redirect URI\n",
        "response_type = \"code\"\n",
        "grant_type = \"authorization_code\"\n",
        "\n",
        "# The authorization code received from Fyers after the user grants access\n",
        "auth_code = \"eyJhbGciOiJIUzI1NiIsInR5cCI6IkpXVCJ9.eyJhcHBfaWQiOiJLVUw3RzlOQTFLIiwidXVpZCI6IjUzYjBmMjQyMTM1NDRkNTg4Yjc0NjJjYTliZThmYjE2IiwiaXBBZGRyIjoiIiwibm9uY2UiOiIiLCJzY29wZSI6IiIsImRpc3BsYXlfbmFtZSI6IkZBQTM0NzU5Iiwib21zIjoiSzEiLCJoc21fa2V5IjoiMGMxNTE5YjE5ZDk3MGJjYTRmMmZmMGYzOTE2NDg4OGNhZmVhZDE3ODdmMjVjMGE1OTljYzUyOGUiLCJpc0RkcGlFbmFibGVkIjoiTiIsImlzTXRmRW5hYmxlZCI6Ik4iLCJhdWQiOiJbXCJkOjFcIixcImQ6MlwiLFwieDowXCIsXCJ4OjFcIixcIng6MlwiXSIsImV4cCI6MTc1MTM4MTA2MCwiaWF0IjoxNzUxMzUxMDYwLCJpc3MiOiJhcGkubG9naW4uZnllcnMuaW4iLCJuYmYiOjE3NTEzNTEwNjAsInN1YiI6ImF1dGhfY29kZSJ9.chjTvAtKxRDnt_7x_8Vq3fmitLKAqd3YlLh7yEM7_Fc\"\n",
        "\n",
        "# Create a session object to handle the Fyers API authentication and token generation\n",
        "session = fyersModel.SessionModel(\n",
        "    client_id=client_id,\n",
        "    secret_key=secret_key,\n",
        "    redirect_uri=redirect_uri,\n",
        "    response_type=response_type,\n",
        "    grant_type=grant_type\n",
        ")\n",
        "\n",
        "# Set the authorization code in the session object\n",
        "session.set_token(auth_code)\n",
        "\n",
        "# Generate the access token using the authorization code\n",
        "response = session.generate_token()\n",
        "\n",
        "# Print the response, which should contain the access token and other details\n",
        "print(response)\n"
      ]
    },
    {
      "cell_type": "markdown",
      "metadata": {
        "id": "t17MorVg4kRG"
      },
      "source": [
        "# Real Time values of stock\n",
        "using API's symbol and access token (generated above)"
      ]
    },
    {
      "cell_type": "code",
      "execution_count": null,
      "metadata": {
        "id": "ui1U4Wqs3Yx5"
      },
      "outputs": [],
      "source": [
        "from fyers_apiv3 import fyersModel\n",
        "\n",
        "client_id = \"Kxxxxxxx-100\"\n",
        "access_token = \"eyJhbGciOiJIUzI1NiIsInR5cCI6IkpXVCJ9.eyJhdWQiOlsiZDoxIiwiZDoyIiwieDowIiwieDoxIiwieDoyIl0sImF0X2hhc2giOiJnQUFBQUFCb1k0UjJfUlRJUm5VZzBtV1hZWjhKXzl2SGZ1bEJfQVFjNTZsM0pUbktDTDFYQy1CWDljNDlYcHlwbzVtZXVNYVpPOWlaODlFaF9aR1JBTVlmbmRvaDZ0YXhDOE83NFJVcVV3aWdVZno1NEdSaFMyZz0iLCJkaXNwbGF5X25hbWUiOiIiLCJvbXMiOiJLMSIsImhzbV9rZXkiOiIwYzE1MTliMTlkOTcwYmNhNGYyZmYwZjM5MTY0ODg4Y2FmZWFkMTc4N2YyNWMwYTU5OWNjNTI4ZSIsImlzRGRwaUVuYWJsZWQiOiJOIiwiaXNNdGZFbmFibGVkIjoiTiIsImZ5X2lkIjoiRkFBMzQ3NTkiLCJhcHBUeXBlIjoxMDAsImV4cCI6MTc1MTQxNjIwMCwiaWF0IjoxNzUxMzUyNDM4LCJpc3MiOiJhcGkuZnllcnMuaW4iLCJuYmYiOjE3NTEzNTI0MzgsInN1YiI6ImFjY2Vzc190b2tlbiJ9.83Pw4QrW2imw2fyu9qmDhsEHd3kfkuCJdooEirYNAeM\"\n",
        "\n",
        "# Initialize the FyersModel instance with your client_id, access_token, and enable async mode\n",
        "fyers = fyersModel.FyersModel(client_id=client_id, is_async=False, token=access_token, log_path=\"\")\n",
        "\n",
        "data = {\n",
        "    \"symbol\":\"NSE:SBIN-EQ\",\n",
        "    \"resolution\":\"D\",\n",
        "    \"date_format\":\"0\",\n",
        "    \"range_from\":\"1690895316\",\n",
        "    \"range_to\":\"1691068173\",\n",
        "    \"cont_flag\":\"1\"\n",
        "}\n",
        "\n",
        "response = fyers.history(data=data)\n",
        "print(response)\n",
        "\n",
        "\n",
        "\n",
        "{\n",
        "  \"candles\":[\n",
        "      [\n",
        "        1690934400,\n",
        "        609.85,\n",
        "        610.5,\n",
        "        594.1,\n",
        "        598.45,\n",
        "        14977497\n",
        "      ],\n",
        "      [\n",
        "        1691020800,\n",
        "        598.7,\n",
        "        600.85,\n",
        "        585,\n",
        "        590.5,\n",
        "        27774877\n",
        "      ]\n",
        "  ],\n",
        "  \"code\":200,\n",
        "  \"message\":\"\",\n",
        "  \"s\":\"ok\"\n",
        "}\n"
      ]
    }
  ],
  "metadata": {
    "colab": {
      "provenance": [],
      "include_colab_link": true
    },
    "kernelspec": {
      "display_name": "Python 3",
      "name": "python3"
    },
    "language_info": {
      "name": "python"
    }
  },
  "nbformat": 4,
  "nbformat_minor": 0
}